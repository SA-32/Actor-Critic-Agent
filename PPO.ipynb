{
 "cells": [
  {
   "cell_type": "code",
   "execution_count": 1,
   "id": "4f71297c",
   "metadata": {},
   "outputs": [],
   "source": [
    "import numpy as np\n",
    "import torch\n",
    "import torch.nn as nn"
   ]
  },
  {
   "cell_type": "code",
   "execution_count": null,
   "id": "1ac50232",
   "metadata": {},
   "outputs": [],
   "source": [
    "class ActorNetwork(nn.Module):\n",
    "    def __init__(self, input_dims, n_actions):\n",
    "        super().__init__()\n",
    "        self.fc1 = nn.Linear(input_dims, 128)\n",
    "        self.fc2 = nn.Linear(128, 128)\n",
    "        self.fc3 = nn.Linear(128, n_actions)\n",
    "\n",
    "    def forward(self, x):\n",
    "        x = torch.relu(self.fc1(x))\n",
    "        x = torch.relu(self.fc2(x))\n",
    "        x = torch.softmax(self.fc3(x), dim = -1)\n",
    "\n",
    "        return x"
   ]
  },
  {
   "cell_type": "code",
   "execution_count": null,
   "id": "67416aff",
   "metadata": {},
   "outputs": [],
   "source": [
    "class CriticNetwork(nn.Module):\n",
    "    def __init__(self, input_dims):\n",
    "        super().__init__()\n",
    "        self.fc1 = nn.Linear(input_dims, 128)\n",
    "        self.fc2 = nn.Linear(128, 128)\n",
    "        self.fc3 = nn.Linear(128, 1)\n",
    "\n",
    "    def forward(self, x):\n",
    "        x = torch.relu(self.fc1(x))\n",
    "        x = torch.relu(self.fc2(x))\n",
    "        x = self.fc3(x)\n",
    "\n",
    "        return x"
   ]
  },
  {
   "cell_type": "code",
   "execution_count": null,
   "id": "9124e558",
   "metadata": {},
   "outputs": [],
   "source": [
    "class Agent():\n",
    "    def __init__(self, in_dims, n_actions):\n",
    "        self.actor      = ActorNetwork(in_dims, n_actions)\n",
    "        self.critic     = CriticNetwork(in_dims)\n",
    "        self.actor_opt  = torch.optim.Adam(self.actor.paramters(),  lr = alpha)\n",
    "        self.critic_opt = torch.optim.Adam(self.critic.paramters(), lr = beta)\n",
    "        self.criterion  = nn.MSELoss()\n",
    "\n",
    "    def learn(self):\n",
    "        state, reward, action, next_state, probs, values, done = self.memory.Sample()\n",
    "        new_probs = self.actor(state)\n",
    "        advantage = 0\n",
    "        store = []\n",
    "\n",
    "        for i in reversed(range(self.size)):\n",
    "            delta     = reward[i] + self.gamma * self.critic(next_state[i]) * (1 - int(done[i])) - values[i]\n",
    "\n",
    "            advantage = delta + self.lembda * self.gamma * (advantage)\n",
    "\n",
    "            store.append(advantage)\n",
    "            \n",
    "\n",
    "        store.reverse()\n",
    "\n",
    "        store = np.array(store)\n",
    "\n",
    "        store.reshape(len(state), 1)\n",
    "\n",
    "        loss = store * (new_probs / probs)\n"
   ]
  }
 ],
 "metadata": {
  "kernelspec": {
   "display_name": "Python 3",
   "language": "python",
   "name": "python3"
  },
  "language_info": {
   "codemirror_mode": {
    "name": "ipython",
    "version": 3
   },
   "file_extension": ".py",
   "mimetype": "text/x-python",
   "name": "python",
   "nbconvert_exporter": "python",
   "pygments_lexer": "ipython3",
   "version": "3.10.11"
  }
 },
 "nbformat": 4,
 "nbformat_minor": 5
}
